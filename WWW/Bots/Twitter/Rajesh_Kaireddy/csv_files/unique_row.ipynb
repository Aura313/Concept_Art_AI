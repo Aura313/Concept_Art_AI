{
 "cells": [
  {
   "cell_type": "code",
   "execution_count": 3,
   "metadata": {},
   "outputs": [],
   "source": [
    "import pandas as pd\n",
    "import glob\n",
    "\n",
    "# Create an empty set to store unique rows\n",
    "unique_rows = set()\n",
    "\n",
    "# Define the file pattern using a wildcard (*)\n",
    "file_pattern = 'prompts_and_links*.csv'\n",
    "\n",
    "# Use glob to find files matching the pattern\n",
    "matching_files = glob.glob(file_pattern)\n",
    "\n",
    "# Iterate through the matching files\n",
    "for file_name in matching_files:\n",
    "    df = pd.read_csv(file_name)  # Read each matching CSV file into a DataFrame\n",
    "    unique_rows.update(map(tuple, df.values))  # Add rows to the set\n",
    "\n",
    "# Create a DataFrame from the unique rows\n",
    "unique_df = pd.DataFrame(list(unique_rows), columns=df.columns)\n",
    "\n",
    "# Export the DataFrame to a CSV file\n",
    "unique_df.to_csv('unique_data.csv', index=False)\n"
   ]
  },
  {
   "cell_type": "code",
   "execution_count": 4,
   "metadata": {},
   "outputs": [
    {
     "data": {
      "text/html": [
       "<div>\n",
       "<style scoped>\n",
       "    .dataframe tbody tr th:only-of-type {\n",
       "        vertical-align: middle;\n",
       "    }\n",
       "\n",
       "    .dataframe tbody tr th {\n",
       "        vertical-align: top;\n",
       "    }\n",
       "\n",
       "    .dataframe thead th {\n",
       "        text-align: right;\n",
       "    }\n",
       "</style>\n",
       "<table border=\"1\" class=\"dataframe\">\n",
       "  <thead>\n",
       "    <tr style=\"text-align: right;\">\n",
       "      <th></th>\n",
       "      <th>prompt</th>\n",
       "      <th>link</th>\n",
       "    </tr>\n",
       "  </thead>\n",
       "  <tbody>\n",
       "    <tr>\n",
       "      <th>0</th>\n",
       "      <td>Florida politicians as seen by AI: A team of p...</td>\n",
       "      <td>https://twitter.com/simonkp/status/17024963615...</td>\n",
       "    </tr>\n",
       "    <tr>\n",
       "      <th>1</th>\n",
       "      <td>Did you know minimalist ink drawings emphasize...</td>\n",
       "      <td>https://twitter.com/TheFirstRaph/status/169800...</td>\n",
       "    </tr>\n",
       "    <tr>\n",
       "      <th>2</th>\n",
       "      <td>Good morning Fam</td>\n",
       "      <td>https://twitter.com/CadizFFM/status/1703739978...</td>\n",
       "    </tr>\n",
       "    <tr>\n",
       "      <th>3</th>\n",
       "      <td>Another style</td>\n",
       "      <td>https://twitter.com/DMJeffChronicle/status/170...</td>\n",
       "    </tr>\n",
       "    <tr>\n",
       "      <th>4</th>\n",
       "      <td>When it rains look for rainbows, when it’s dar...</td>\n",
       "      <td>https://twitter.com/MargaretWiktor/status/1699...</td>\n",
       "    </tr>\n",
       "  </tbody>\n",
       "</table>\n",
       "</div>"
      ],
      "text/plain": [
       "                                              prompt  \\\n",
       "0  Florida politicians as seen by AI: A team of p...   \n",
       "1  Did you know minimalist ink drawings emphasize...   \n",
       "2                                   Good morning Fam   \n",
       "3                                      Another style   \n",
       "4  When it rains look for rainbows, when it’s dar...   \n",
       "\n",
       "                                                link  \n",
       "0  https://twitter.com/simonkp/status/17024963615...  \n",
       "1  https://twitter.com/TheFirstRaph/status/169800...  \n",
       "2  https://twitter.com/CadizFFM/status/1703739978...  \n",
       "3  https://twitter.com/DMJeffChronicle/status/170...  \n",
       "4  https://twitter.com/MargaretWiktor/status/1699...  "
      ]
     },
     "execution_count": 4,
     "metadata": {},
     "output_type": "execute_result"
    }
   ],
   "source": [
    "df=pd.read_csv('unique_data.csv')\n",
    "df.head()"
   ]
  },
  {
   "cell_type": "code",
   "execution_count": 5,
   "metadata": {},
   "outputs": [
    {
     "data": {
      "text/plain": [
       "(1784, 2)"
      ]
     },
     "execution_count": 5,
     "metadata": {},
     "output_type": "execute_result"
    }
   ],
   "source": [
    "df.shape"
   ]
  },
  {
   "cell_type": "code",
   "execution_count": null,
   "metadata": {},
   "outputs": [],
   "source": []
  }
 ],
 "metadata": {
  "kernelspec": {
   "display_name": "base",
   "language": "python",
   "name": "python3"
  },
  "language_info": {
   "codemirror_mode": {
    "name": "ipython",
    "version": 3
   },
   "file_extension": ".py",
   "mimetype": "text/x-python",
   "name": "python",
   "nbconvert_exporter": "python",
   "pygments_lexer": "ipython3",
   "version": "3.9.12"
  },
  "orig_nbformat": 4
 },
 "nbformat": 4,
 "nbformat_minor": 2
}
